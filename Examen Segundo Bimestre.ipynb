{
 "cells": [
  {
   "cell_type": "code",
   "execution_count": 13,
   "metadata": {},
   "outputs": [],
   "source": [
    "import pandas as pd\n",
    "import numpy as np"
   ]
  },
  {
   "cell_type": "markdown",
   "metadata": {},
   "source": [
    "1) ¿Cómo dividir una columna de texto en dos columnas separadas?\n",
    "\n",
    "Entrada\n",
    "\n",
    "df = pd.DataFrame([\"STD, City State\",\n",
    "\n",
    "\"33, Kolkata West Bengal\",\n",
    "\n",
    "\"44, Chennai Tamil Nadu\",\n",
    "\n",
    "\"40, Hyderabad Telengana\",\n",
    "\n",
    "\"80, Bangalore Karnataka\"], columns=['row'])"
   ]
  },
  {
   "cell_type": "code",
   "execution_count": 11,
   "metadata": {},
   "outputs": [
    {
     "name": "stdout",
     "output_type": "stream",
     "text": [
      "Normal\n",
      "                        row\n",
      "0          STD, City State\n",
      "1  33, Kolkata West Bengal\n",
      "2   44, Chennai Tamil Nadu\n",
      "3  40, Hyderabad Telengana\n",
      "4  80, Bangalore Karnataka\n",
      "\n",
      "Separada\n",
      "   Code                  Name\n",
      "0  STD            City State\n",
      "1   33   Kolkata West Bengal\n",
      "2   44    Chennai Tamil Nadu\n",
      "3   40   Hyderabad Telengana\n",
      "4   80   Bangalore Karnataka\n"
     ]
    }
   ],
   "source": [
    "df = pd.DataFrame(\n",
    "    [\"STD, City State\", \"33, Kolkata West Bengal\", \"44, Chennai Tamil Nadu\",\n",
    "     \"40, Hyderabad Telengana\",\"80, Bangalore Karnataka\"\n",
    "    ], columns=['row'])\n",
    "print(\"Normal\\n\", df.head())\n",
    "df = pd.DataFrame(df.row.str.split(',', 1).tolist(), columns=['Code', 'Name'])\n",
    "print(\"\\nSeparada\\n\", df.head())"
   ]
  },
  {
   "cell_type": "markdown",
   "metadata": {},
   "source": [
    "2) ¿Cómo obtener la frecuencia de valores repetidos en todo el dataframe?\n",
    "\n",
    "Entrada\n",
    "\n",
    "df = pd.DataFrame(np.random.randint(1, 10, 20).reshape(-1, 4), columns = list('abcd'))"
   ]
  },
  {
   "cell_type": "code",
   "execution_count": 23,
   "metadata": {},
   "outputs": [
    {
     "data": {
      "text/html": [
       "<div>\n",
       "<style scoped>\n",
       "    .dataframe tbody tr th:only-of-type {\n",
       "        vertical-align: middle;\n",
       "    }\n",
       "\n",
       "    .dataframe tbody tr th {\n",
       "        vertical-align: top;\n",
       "    }\n",
       "\n",
       "    .dataframe thead th {\n",
       "        text-align: right;\n",
       "    }\n",
       "</style>\n",
       "<table border=\"1\" class=\"dataframe\">\n",
       "  <thead>\n",
       "    <tr style=\"text-align: right;\">\n",
       "      <th></th>\n",
       "      <th>b</th>\n",
       "      <th>c</th>\n",
       "      <th>d</th>\n",
       "    </tr>\n",
       "    <tr>\n",
       "      <th>a</th>\n",
       "      <th></th>\n",
       "      <th></th>\n",
       "      <th></th>\n",
       "    </tr>\n",
       "  </thead>\n",
       "  <tbody>\n",
       "    <tr>\n",
       "      <th>1</th>\n",
       "      <td>1</td>\n",
       "      <td>1</td>\n",
       "      <td>1</td>\n",
       "    </tr>\n",
       "    <tr>\n",
       "      <th>2</th>\n",
       "      <td>1</td>\n",
       "      <td>1</td>\n",
       "      <td>1</td>\n",
       "    </tr>\n",
       "    <tr>\n",
       "      <th>4</th>\n",
       "      <td>2</td>\n",
       "      <td>2</td>\n",
       "      <td>2</td>\n",
       "    </tr>\n",
       "    <tr>\n",
       "      <th>6</th>\n",
       "      <td>1</td>\n",
       "      <td>1</td>\n",
       "      <td>1</td>\n",
       "    </tr>\n",
       "  </tbody>\n",
       "</table>\n",
       "</div>"
      ],
      "text/plain": [
       "   b  c  d\n",
       "a         \n",
       "1  1  1  1\n",
       "2  1  1  1\n",
       "4  2  2  2\n",
       "6  1  1  1"
      ]
     },
     "execution_count": 23,
     "metadata": {},
     "output_type": "execute_result"
    }
   ],
   "source": [
    "df = pd.DataFrame(np.random.randint(1, 10, 20).reshape(-1, 4), columns = list('abcd'))\n",
    "df.head()\n",
    "\n",
    "df.groupby('a').count()"
   ]
  },
  {
   "cell_type": "markdown",
   "metadata": {},
   "source": [
    "3) ¿Cómo obtener las posiciones donde coinciden los valores de dos columnas?\n",
    "\n",
    "Entrada\n",
    "\n",
    "df = pd.DataFrame({'fruit1': np.random.choice(['apple', 'orange', 'banana'], 10),\n",
    "\n",
    "'fruit2': np.random.choice(['apple', 'orange', 'banana'], 10)})"
   ]
  },
  {
   "cell_type": "code",
   "execution_count": 29,
   "metadata": {},
   "outputs": [
    {
     "name": "stdout",
     "output_type": "stream",
     "text": [
      "   fruit1  fruit2\n",
      "0  orange  orange\n",
      "1   apple  banana\n",
      "2   apple  orange\n",
      "3   apple  banana\n",
      "4   apple   apple\n",
      "5  banana  orange\n",
      "6  banana   apple\n",
      "7   apple  orange\n",
      "8   apple  orange\n",
      "9   apple   apple \n",
      "\n",
      "[0, 4, 9]\n"
     ]
    }
   ],
   "source": [
    "df = pd.DataFrame(\n",
    "    {'fruit1': np.random.choice(['apple', 'orange', 'banana'], 10),\n",
    "     'fruit2': np.random.choice(['apple', 'orange', 'banana'], 10)\n",
    "    })\n",
    "print(df, '\\n')\n",
    "\n",
    "df_iguales = df.index[df['fruit1'] == df['fruit2']].tolist() \n",
    "print(df_iguales)\n"
   ]
  },
  {
   "cell_type": "markdown",
   "metadata": {},
   "source": [
    "4) A partir de un diccionario crear un DataFrame\n",
    "\n",
    "{‘X’:[28,35,46,50,66], 'Y':[74,84,99,13,26],'Z':[36,47,56,62,73]}"
   ]
  },
  {
   "cell_type": "code",
   "execution_count": 33,
   "metadata": {},
   "outputs": [
    {
     "name": "stdout",
     "output_type": "stream",
     "text": [
      "{'X': [28, 35, 46, 50, 66], 'Y': [74, 84, 99, 13, 26], 'Z': [36, 47, 56, 62, 73]}\n",
      "    X   Y   Z\n",
      "0  28  74  36\n",
      "1  35  84  47\n",
      "2  46  99  56\n",
      "3  50  13  62\n",
      "4  66  26  73\n"
     ]
    }
   ],
   "source": [
    "diccionario = {'X':[28,35,46,50,66], 'Y':[74,84,99,13,26],'Z':[36,47,56,62,73]}\n",
    "print(diccionario)\n",
    "\n",
    "df = pd.DataFrame(diccionario)\n",
    "print(df)"
   ]
  },
  {
   "cell_type": "markdown",
   "metadata": {},
   "source": [
    "5) Genere 3 columnas con 5 elementos cada uno. Cree una función para eliminar los N primeras o N últimas filas"
   ]
  },
  {
   "cell_type": "code",
   "execution_count": 71,
   "metadata": {},
   "outputs": [
    {
     "name": "stdout",
     "output_type": "stream",
     "text": [
      "   One  Two  Three\n",
      "0    0    1      2\n",
      "1    3    4      5\n",
      "2    6    7      8\n",
      "3    9   10     11\n",
      "4   12   13     14\n",
      "[INDEX TO DELETE] [4, 3]\n",
      "   One  Two  Three\n",
      "0    0    1      2\n",
      "1    3    4      5\n",
      "2    6    7      8\n"
     ]
    }
   ],
   "source": [
    "def delete_n_rows(df_test, n, first=True):\n",
    "    if first:\n",
    "        index = [x for x in range(n)]\n",
    "    else:\n",
    "        number_rows = len(df_test.index) - 1\n",
    "        index = [x for x in range(number_rows, number_rows - n, -1)]\n",
    "    print('[INDEX TO DELETE]', index)\n",
    "    df_deleted = df_test.drop(df_test.index[[index]])\n",
    "    return df_deleted\n",
    "\n",
    "matriz = np.arange(15).reshape((5, 3))\n",
    "df = pd.DataFrame(matriz, columns=['One', 'Two', 'Three'])\n",
    "print(df)\n",
    "\n",
    "deleted = delete_n_rows(df, 2, first=False)\n",
    "print(deleted)\n"
   ]
  },
  {
   "cell_type": "markdown",
   "metadata": {},
   "source": [
    "6) Genere 5 columnas con 5 elementos cada uno. Cree una función para ordenar de forma ascendente o descendente los datos por columna."
   ]
  },
  {
   "cell_type": "code",
   "execution_count": 68,
   "metadata": {},
   "outputs": [
    {
     "name": "stdout",
     "output_type": "stream",
     "text": [
      "    0   1   2   3   4\n",
      "0   0   1   2   3   4\n",
      "1   5   6   7   8   9\n",
      "2  10  11  12  13  14\n",
      "3  15  16  17  18  19\n",
      "4  20  21  22  23  24\n",
      "\n",
      "     0   1   2   3   4\n",
      "4  20  21  22  23  24\n",
      "3  15  16  17  18  19\n",
      "2  10  11  12  13  14\n",
      "1   5   6   7   8   9\n",
      "0   0   1   2   3   4\n"
     ]
    }
   ],
   "source": [
    "def sort_df(df_func, asc=True):\n",
    "    columns = [name for name in df_func.columns.values]\n",
    "    df_func = df_func.sort_values(by=columns, ascending=asc)\n",
    "    return df_func\n",
    "\n",
    "matriz = np.arange(25).reshape((5, 5))\n",
    "df = pd.DataFrame(matriz)\n",
    "print(df)\n",
    "\n",
    "sorted_df = sort_df(df, False)\n",
    "print('\\n', sorted_df)"
   ]
  },
  {
   "cell_type": "markdown",
   "metadata": {},
   "source": [
    "7) Genere 4 columnas con 5 elementos cada uno. Cree una función para obtener los N primeros o N ultimos registros."
   ]
  },
  {
   "cell_type": "code",
   "execution_count": 67,
   "metadata": {},
   "outputs": [
    {
     "name": "stdout",
     "output_type": "stream",
     "text": [
      "    0   1   2   3\n",
      "0   0   1   2   3\n",
      "1   4   5   6   7\n",
      "2   8   9  10  11\n",
      "3  12  13  14  15\n",
      "4  16  17  18  19\n",
      "\n",
      "   0  1  2  3\n",
      "0  0  1  2  3\n",
      "1  4  5  6  7\n"
     ]
    }
   ],
   "source": [
    "def get_n_rows(df, n, first=True):\n",
    "    \n",
    "    if first:\n",
    "        index = [x for x in range(n)]\n",
    "        start, end = 0, n\n",
    "    else:\n",
    "        number_rows = len(df.index)\n",
    "        start, end = number_rows - n, number_rows\n",
    "    \n",
    "    return df[start:end]\n",
    "\n",
    "matriz = np.arange(20).reshape((5, 4))\n",
    "df = pd.DataFrame(matriz)\n",
    "print(df)\n",
    "print()\n",
    "\n",
    "selected = get_n_rows(df, 2, True)\n",
    "print(selected)\n",
    "\n"
   ]
  },
  {
   "cell_type": "markdown",
   "metadata": {},
   "source": [
    "8) Genere 4 columnas con 5 elementos cada uno. Cree una función para obtener los N primeros o N ultimos registros."
   ]
  },
  {
   "cell_type": "code",
   "execution_count": 72,
   "metadata": {},
   "outputs": [
    {
     "name": "stdout",
     "output_type": "stream",
     "text": [
      "    0   1   2   3\n",
      "0   0   1   2   3\n",
      "1   4   5   6   7\n",
      "2   8   9  10  11\n",
      "3  12  13  14  15\n",
      "4  16  17  18  19\n",
      "\n",
      "   0  1  2  3\n",
      "0  0  1  2  3\n",
      "1  4  5  6  7\n"
     ]
    }
   ],
   "source": [
    "def get_n_rows(df, n, first=True):\n",
    "    \n",
    "    if first:\n",
    "        index = [x for x in range(n)]\n",
    "        start, end = 0, n\n",
    "    else:\n",
    "        number_rows = len(df.index)\n",
    "        start, end = number_rows - n, number_rows\n",
    "    \n",
    "    return df[start:end]\n",
    "\n",
    "matriz = np.arange(20).reshape((5, 4))\n",
    "df = pd.DataFrame(matriz)\n",
    "print(df)\n",
    "print()\n",
    "\n",
    "selected = get_n_rows(df, 2, True)\n",
    "print(selected)"
   ]
  },
  {
   "cell_type": "markdown",
   "metadata": {},
   "source": [
    "9) Genere 6 columnas con 5 elementos cada uno. Cree una función para obtener un nuevo DataFrame sin la columna X"
   ]
  },
  {
   "cell_type": "code",
   "execution_count": 75,
   "metadata": {},
   "outputs": [
    {
     "name": "stdout",
     "output_type": "stream",
     "text": [
      "    0   1   2   3   4   5\n",
      "0   0   1   2   3   4   5\n",
      "1   6   7   8   9  10  11\n",
      "2  12  13  14  15  16  17\n",
      "3  18  19  20  21  22  23\n",
      "4  24  25  26  27  28  29\n",
      "\n",
      "    0   1   2   3   5\n",
      "0   0   1   2   3   5\n",
      "1   6   7   8   9  11\n",
      "2  12  13  14  15  17\n",
      "3  18  19  20  21  23\n",
      "4  24  25  26  27  29\n"
     ]
    }
   ],
   "source": [
    "def generate_new_df_without_colum(df, column):\n",
    "    return df.drop(column, 1)\n",
    "\n",
    "matriz = np.arange(30).reshape((5, 6))\n",
    "df = pd.DataFrame(matriz)\n",
    "print(df)\n",
    "print()\n",
    "\n",
    "new_df = generate_new_df_without_colum(df, 4)\n",
    "print(new_df)\n",
    "\n"
   ]
  },
  {
   "cell_type": "markdown",
   "metadata": {},
   "source": [
    "10) Genere 3 columnas con 5 elementos cada uno. Cree una función para obtener el numero de columnas en un dataframe."
   ]
  },
  {
   "cell_type": "code",
   "execution_count": 78,
   "metadata": {},
   "outputs": [
    {
     "name": "stdout",
     "output_type": "stream",
     "text": [
      "    0   1   2\n",
      "0   0   1   2\n",
      "1   3   4   5\n",
      "2   6   7   8\n",
      "3   9  10  11\n",
      "4  12  13  14\n",
      "\n",
      "[NUMBER OF COLUMNS]: 3\n"
     ]
    }
   ],
   "source": [
    "def number_columns_data_frame(df):\n",
    "    return len(df.columns)\n",
    "\n",
    "matriz = np.arange(15).reshape((5, 3))\n",
    "df = pd.DataFrame(matriz)\n",
    "print(df)\n",
    "print()\n",
    "\n",
    "print('[NUMBER OF COLUMNS]:', number_columns_data_frame(df))"
   ]
  },
  {
   "cell_type": "code",
   "execution_count": null,
   "metadata": {},
   "outputs": [],
   "source": [
    "11) Genere 2 columnas con 20 elementos cada uno. La primera columna debe de tener uno de los siguientes valores: C1, C2, C3 y C4. Estos valores se pueden repetir. La segunda columna tiene valores de números cualesquiera. Cree una función para agrupar por la Primera Columna y que se listen los valores agrupados de la segunda Columna.\n",
    "    "
   ]
  },
  {
   "cell_type": "code",
   "execution_count": null,
   "metadata": {},
   "outputs": [],
   "source": []
  },
  {
   "cell_type": "markdown",
   "metadata": {},
   "source": [
    "12) Cree una función para crear un DataFrame a partir de una lista de listas. Suponga que la lista en la posicion 0 siempre son las cabeceras.\n",
    "\n",
    "my_lists = [['col1', 'col2'], [2, 4], [1, 3]]"
   ]
  },
  {
   "cell_type": "code",
   "execution_count": 81,
   "metadata": {},
   "outputs": [
    {
     "name": "stdout",
     "output_type": "stream",
     "text": [
      "[['col1', 'col2'], [2, 4], [1, 3]]\n",
      "DF:\n",
      "    col1  col2\n",
      "0     2     4\n",
      "1     1     3\n"
     ]
    }
   ],
   "source": [
    "def generate_dataframe(list_of_list):\n",
    "    return pd.DataFrame(list_of_list[1:], columns=list_of_list[0])\n",
    "\n",
    "my_lists = [['col1', 'col2'], [2, 4], [1, 3]]\n",
    "print(my_lists)\n",
    "\n",
    "df = generate_dataframe(my_lists)\n",
    "print('DF:\\n', df)\n",
    "\n"
   ]
  },
  {
   "cell_type": "code",
   "execution_count": null,
   "metadata": {},
   "outputs": [],
   "source": [
    "13) Escriba una funcion que inserte en un indice especifico una nueva columna de datos en un DataFrame. Cree un DataFrame de ejemplo para probar su funcion."
   ]
  },
  {
   "cell_type": "code",
   "execution_count": 82,
   "metadata": {},
   "outputs": [
    {
     "name": "stdout",
     "output_type": "stream",
     "text": [
      "  new_col column\n",
      "0  orange     C3\n",
      "1  orange     C3\n",
      "2   apple     C2\n",
      "3   apple     C2\n",
      "4  orange     C2\n"
     ]
    }
   ],
   "source": [
    "df = pd.DataFrame({'column': np.random.choice(['C1', 'C2', 'C3', 'C4'], 5)})\n",
    "def insert_column(df,name,new_col,index):\n",
    "    df.insert(loc=index, column=name, value=new_col)\n",
    "    print(df)\n",
    "\n",
    "insert_column(df,'new_col',np.random.choice(['apple', 'orange', 'banana'], 5),0)"
   ]
  },
  {
   "cell_type": "code",
   "execution_count": null,
   "metadata": {},
   "outputs": [],
   "source": [
    "14) Escriba una funcion para eliminar los valores de numpy “inf”, “-inf” es decir Infinite Positive e Infinite negative de un dataframe por NaN. Cree un DataFrame de ejemplo para probar su funcion"
   ]
  },
  {
   "cell_type": "code",
   "execution_count": null,
   "metadata": {},
   "outputs": [],
   "source": []
  },
  {
   "cell_type": "code",
   "execution_count": null,
   "metadata": {},
   "outputs": [],
   "source": [
    "15) Cree una funcion para cambiar strings o flotantes a tipo de dato entero de una columna y booleanos a 0 si es falso o 1 si es verdadero (tambien debe de quedar cambiada la columna a tipo entero). Cree un DataFrame de ejemplo para probar su funcion. Aqui un posible ejemplo:"
   ]
  },
  {
   "cell_type": "code",
   "execution_count": 83,
   "metadata": {},
   "outputs": [
    {
     "name": "stdout",
     "output_type": "stream",
     "text": [
      "    score  qualify\n",
      "0   14.50    False\n",
      "1   12.50     True\n",
      "2   14.50     True\n",
      "3   14.50    False\n",
      "4   14.50     True\n",
      "5   12.77    False\n",
      "6    9.21     True\n",
      "7   14.50    False\n",
      "8   12.50     True\n",
      "9    9.21     True\n",
      "10  12.77    False\n",
      "11   9.21     True\n",
      "12   9.21     True\n",
      "13  14.50     True\n",
      "14  12.77    False\n",
      "15  12.50    False\n",
      "16  14.50     True\n",
      "17   9.21    False\n",
      "18  12.50    False\n",
      "19  14.50     True\n",
      "score      object\n",
      "qualify      bool\n",
      "dtype: object\n",
      "    score  qualify\n",
      "0   14.50    False\n",
      "1   12.50     True\n",
      "2   14.50     True\n",
      "3   14.50    False\n",
      "4   14.50     True\n",
      "5   12.77    False\n",
      "6    9.21     True\n",
      "7   14.50    False\n",
      "8   12.50     True\n",
      "9    9.21     True\n",
      "10  12.77    False\n",
      "11   9.21     True\n",
      "12   9.21     True\n",
      "13  14.50     True\n",
      "14  12.77    False\n",
      "15  12.50    False\n",
      "16  14.50     True\n",
      "17   9.21    False\n",
      "18  12.50    False\n",
      "19  14.50     True\n",
      "score      object\n",
      "qualify      bool\n",
      "dtype: object\n"
     ]
    }
   ],
   "source": [
    "df = pd.DataFrame({'score': np.random.choice(['12.50', '14.50', '12.77', '9.21'], 20),\n",
    "                   'qualify': np.random.choice([True,False], 20)})\n",
    "print(df)\n",
    "print(df.dtypes)\n",
    "\n",
    "def change_dtypes(df,column_name):\n",
    "    print(pd.to_numeric(df[column_name], errors='ignore'))\n",
    "\n",
    "    print(df.dtypes)\n",
    "    \n",
    "print(df)\n",
    "print(df.dtypes)\n"
   ]
  },
  {
   "cell_type": "code",
   "execution_count": null,
   "metadata": {},
   "outputs": [],
   "source": [
    "16) Escriba una funcion para ordenar un dataframe por 2 o mas columnas. Cree un DataFrame de ejemplo para probar su funcion."
   ]
  },
  {
   "cell_type": "code",
   "execution_count": null,
   "metadata": {},
   "outputs": [],
   "source": []
  },
  {
   "cell_type": "code",
   "execution_count": null,
   "metadata": {},
   "outputs": [],
   "source": [
    "17) Escriba una funcion para buscar en que columnas se repite cierto valor y cuales no. Cree un DataFrame de ejemplo para probar su funcion."
   ]
  },
  {
   "cell_type": "code",
   "execution_count": null,
   "metadata": {},
   "outputs": [],
   "source": []
  },
  {
   "cell_type": "code",
   "execution_count": null,
   "metadata": {},
   "outputs": [],
   "source": [
    "18) Escriba una funcion para listar los valores minimos o maximos de toda la columna de un subconjunto de columnas. El programa debe de devolver el nombre de la columnas y el arreglo de indices de fila de los valores minimos y maximos. Cree un DataFrame de ejemplo para probar su funcion."
   ]
  },
  {
   "cell_type": "code",
   "execution_count": null,
   "metadata": {},
   "outputs": [],
   "source": []
  },
  {
   "cell_type": "code",
   "execution_count": null,
   "metadata": {},
   "outputs": [],
   "source": [
    "19) Escriba una funcion que reciba como parametro un arreglo de nombres de columna y devuelva un diccionario de columnas con los valores de esa columna como “lista”. El tipo de dato del valor de cada elemento del diccionario debe ser “lista”."
   ]
  },
  {
   "cell_type": "code",
   "execution_count": null,
   "metadata": {},
   "outputs": [],
   "source": []
  },
  {
   "cell_type": "markdown",
   "metadata": {},
   "source": [
    "20) Escriba una funcion que reciba como parametros el numero de filas y que devuelva la selección de un subconjunto de elementos randomicos del DataSet."
   ]
  },
  {
   "cell_type": "code",
   "execution_count": null,
   "metadata": {},
   "outputs": [],
   "source": []
  }
 ],
 "metadata": {
  "kernelspec": {
   "display_name": "Python 3",
   "language": "python",
   "name": "python3"
  },
  "language_info": {
   "codemirror_mode": {
    "name": "ipython",
    "version": 3
   },
   "file_extension": ".py",
   "mimetype": "text/x-python",
   "name": "python",
   "nbconvert_exporter": "python",
   "pygments_lexer": "ipython3",
   "version": "3.7.1"
  }
 },
 "nbformat": 4,
 "nbformat_minor": 2
}
